{
 "cells": [
  {
   "cell_type": "code",
   "execution_count": 14,
   "metadata": {},
   "outputs": [],
   "source": [
    "from collections import Counter\n",
    "\n",
    "# decleartion for to find combination\n",
    "new_york_avl_unit=[10,20,40,80,160,320]\n",
    "india_avl_unit=[10,40,80,160,320]\n",
    "china_avl_unit=[10,20,80,160]\n",
    "\n",
    "# decleartion for to find cost for combination\n",
    "base_data={\n",
    "    10:{'type':'large', 'unit':10, 'new_york_cost':120, 'india_cost':140, 'china_cost':110},\n",
    "    20:{'type':'xlarge', 'unit':20, 'new_york_cost':230, 'china_cost':200},\n",
    "    40:{'type':'2xlarge', 'unit':40, 'new_york_cost':450, 'india_cost':413,},\n",
    "    80:{'type':'4xlarge', 'unit':80, 'new_york_cost':774, 'india_cost':890, 'china_cost':670},\n",
    "    160:{'type':'8xlarge', 'unit':160, 'new_york_cost':1400, 'india_cost':1300, 'china_cost':1180},\n",
    "    320:{'type':'10xlarge', 'unit':320, 'new_york_cost':2820, 'india_cost':2970,},\n",
    "}\n",
    "\n",
    "# this decleartion for help to identify region\n",
    "cites = ['New York', 'India', 'China']\n",
    "cites_key=['new_york_cost', 'india_cost', 'china_cost']\n",
    "\n",
    "\n",
    "# Used for combination purpose. Main function to find a all possible combinations\n",
    "def ways(total, coins):\n",
    "    ways = [[Counter()]] + [[] for _ in range(total)]\n",
    "    for coin in coins:\n",
    "        for i in range(coin, total + 1):\n",
    "            ways[i] += [way + Counter({coin: 1}) for way in ways[i-coin]]\n",
    "    return ways[total]\n",
    "\n",
    "\n",
    "def find_machines(target, hours):\n",
    "    # checking for input type\n",
    "    if type(target) != int:\n",
    "        return 'Unit Must be in Integer'\n",
    "    if type(hours) != int:\n",
    "        return 'Hours is Must be in Integer'\n",
    "    \n",
    "    final_output = []\n",
    "    for i, city_unit in enumerate([new_york_avl_unit, india_avl_unit, china_avl_unit]):\n",
    "        current_city = cites[i]\n",
    "        \n",
    "        print('Please Wait checking '+ current_city + ' all combinations ...')\n",
    "        \n",
    "        # call to the main function. combination finder\n",
    "        all_combinations = ways(target, city_unit)\n",
    "        \n",
    "        # if combination is available then find a short cost machines\n",
    "        if all_combinations:\n",
    "            combinations_cost=[]\n",
    "            \n",
    "            # finding a combination cost\n",
    "            for combination in all_combinations:\n",
    "                total = 0\n",
    "                for items in combination.elements():\n",
    "                    total+=base_data[items][cites_key[i]]\n",
    "                combinations_cost.append(total)\n",
    "\n",
    "            \n",
    "            min_combination_cost = min(combinations_cost)\n",
    "            min_combination_index = combinations_cost.index(min_combination_cost)\n",
    "\n",
    "            short_cost_combination = all_combinations[min_combination_index].most_common()\n",
    "\n",
    "            # form a output format\n",
    "            machines = []\n",
    "            for combination in  short_cost_combination:\n",
    "                machines.append((base_data[combination[0]]['type'], combination[1]))\n",
    "\n",
    "            final_output.append(\n",
    "                {\n",
    "                    'region': current_city,\n",
    "                    'total_cost': '$'+ str(min_combination_cost * hours),\n",
    "                    'machines': machines\n",
    "                }\n",
    "            )\n",
    "        else:\n",
    "            print(cites[i] + ' has No combination Found')\n",
    "    \n",
    "    return final_output\n"
   ]
  },
  {
   "cell_type": "code",
   "execution_count": 15,
   "metadata": {},
   "outputs": [
    {
     "name": "stdout",
     "output_type": "stream",
     "text": [
      "Please Wait checking New York all combinations ...\n",
      "New York has No combination Found\n",
      "Please Wait checking India all combinations ...\n",
      "India has No combination Found\n",
      "Please Wait checking China all combinations ...\n",
      "China has No combination Found\n"
     ]
    },
    {
     "data": {
      "text/plain": [
       "[]"
      ]
     },
     "execution_count": 15,
     "metadata": {},
     "output_type": "execute_result"
    }
   ],
   "source": [
    "find_machines(1101,12)"
   ]
  },
  {
   "cell_type": "code",
   "execution_count": 16,
   "metadata": {},
   "outputs": [
    {
     "name": "stdout",
     "output_type": "stream",
     "text": [
      "Please Enter a Capacity(integer):1150\n",
      "Please Enter a Hours(integer):1\n",
      "Please Wait checking New York all combinations ...\n",
      "Please Wait checking India all combinations ...\n",
      "Please Wait checking China all combinations ...\n",
      "[{'machines': [('8xlarge', 7), ('large', 1), ('xlarge', 1)],\n",
      "  'region': 'New York',\n",
      "  'total_cost': '$10150'},\n",
      " {'machines': [('8xlarge', 7), ('large', 3)],\n",
      "  'region': 'India',\n",
      "  'total_cost': '$9520'},\n",
      " {'machines': [('8xlarge', 7), ('large', 1), ('xlarge', 1)],\n",
      "  'region': 'China',\n",
      "  'total_cost': '$8570'}]\n"
     ]
    }
   ],
   "source": [
    "from pprint import pprint \n",
    "if __name__ == \"__main__\":\n",
    "    while True:\n",
    "        try:\n",
    "            Capacity = int(input(\"Please Enter a Capacity(integer):\"))\n",
    "            Hours = int(input('Please Enter a Hours(integer):'))\n",
    "            pprint(find_machines(Capacity, Hours))\n",
    "            break\n",
    "        except Exception as e:\n",
    "            print('Please Enter correct Data - '+ str(e))\n",
    "        \n",
    "    "
   ]
  },
  {
   "cell_type": "code",
   "execution_count": null,
   "metadata": {},
   "outputs": [],
   "source": []
  },
  {
   "cell_type": "code",
   "execution_count": null,
   "metadata": {},
   "outputs": [],
   "source": []
  }
 ],
 "metadata": {
  "kernelspec": {
   "display_name": "Python 3",
   "language": "python",
   "name": "python3"
  },
  "language_info": {
   "codemirror_mode": {
    "name": "ipython",
    "version": 3
   },
   "file_extension": ".py",
   "mimetype": "text/x-python",
   "name": "python",
   "nbconvert_exporter": "python",
   "pygments_lexer": "ipython3",
   "version": "3.6.10"
  }
 },
 "nbformat": 4,
 "nbformat_minor": 2
}
